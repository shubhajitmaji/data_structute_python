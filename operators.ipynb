{
 "cells": [
  {
   "cell_type": "markdown",
   "id": "1ab8c0b5-5e07-4c01-8a56-7696e91c2bf6",
   "metadata": {},
   "source": [
    "# what is operator --->> special keyworkds to perform specific task"
   ]
  },
  {
   "cell_type": "markdown",
   "id": "6b240350-0954-44be-8fef-9cb74c16119b",
   "metadata": {},
   "source": [
    "add\n"
   ]
  },
  {
   "cell_type": "code",
   "execution_count": 2,
   "id": "2d896273-e1f6-4d0f-9949-f994bf2dd5c0",
   "metadata": {},
   "outputs": [
    {
     "data": {
      "text/plain": [
       "12"
      ]
     },
     "execution_count": 2,
     "metadata": {},
     "output_type": "execute_result"
    }
   ],
   "source": [
    "5+7"
   ]
  },
  {
   "cell_type": "code",
   "execution_count": 3,
   "id": "1d71f083-b439-4e69-b836-778140624ef9",
   "metadata": {},
   "outputs": [
    {
     "data": {
      "text/plain": [
       "4.0"
      ]
     },
     "execution_count": 3,
     "metadata": {},
     "output_type": "execute_result"
    }
   ],
   "source": [
    "20/5"
   ]
  },
  {
   "cell_type": "code",
   "execution_count": 4,
   "id": "60a6d14d-aa4d-4bca-89c3-46bdbad56ceb",
   "metadata": {},
   "outputs": [
    {
     "data": {
      "text/plain": [
       "1"
      ]
     },
     "execution_count": 4,
     "metadata": {},
     "output_type": "execute_result"
    }
   ],
   "source": [
    "13%2  #modulus operator"
   ]
  },
  {
   "cell_type": "code",
   "execution_count": 5,
   "id": "bd45e51a-3ac2-435f-b520-99bee7b9f892",
   "metadata": {},
   "outputs": [
    {
     "data": {
      "text/plain": [
       "8"
      ]
     },
     "execution_count": 5,
     "metadata": {},
     "output_type": "execute_result"
    }
   ],
   "source": [
    "2**3 #power operator"
   ]
  },
  {
   "cell_type": "code",
   "execution_count": 6,
   "id": "e8a85388-d877-4069-b308-850b132b215e",
   "metadata": {},
   "outputs": [
    {
     "data": {
      "text/plain": [
       "True"
      ]
     },
     "execution_count": 6,
     "metadata": {},
     "output_type": "execute_result"
    }
   ],
   "source": [
    "#comparision operator\n",
    "2==2"
   ]
  },
  {
   "cell_type": "code",
   "execution_count": 7,
   "id": "0498947a-b3e1-4760-9f19-e22331f52ca6",
   "metadata": {},
   "outputs": [
    {
     "data": {
      "text/plain": [
       "False"
      ]
     },
     "execution_count": 7,
     "metadata": {},
     "output_type": "execute_result"
    }
   ],
   "source": [
    "#comparision operator\n",
    "2!=2"
   ]
  },
  {
   "cell_type": "code",
   "execution_count": 10,
   "id": "dd4b3522-3eb9-4dd3-959d-8c86f2e56ace",
   "metadata": {},
   "outputs": [
    {
     "data": {
      "text/plain": [
       "True"
      ]
     },
     "execution_count": 10,
     "metadata": {},
     "output_type": "execute_result"
    }
   ],
   "source": [
    "#comparision operator\n",
    "2<3"
   ]
  },
  {
   "cell_type": "code",
   "execution_count": 11,
   "id": "14ba11cc-31ef-4df5-b300-8a9acdcbfda7",
   "metadata": {},
   "outputs": [
    {
     "data": {
      "text/plain": [
       "1"
      ]
     },
     "execution_count": 11,
     "metadata": {},
     "output_type": "execute_result"
    }
   ],
   "source": [
    "#floor divion operator\n",
    "4//3"
   ]
  },
  {
   "cell_type": "code",
   "execution_count": 12,
   "id": "68246a65-2fb4-4ec7-842f-83d8ffc63e9f",
   "metadata": {},
   "outputs": [
    {
     "data": {
      "text/plain": [
       "False"
      ]
     },
     "execution_count": 12,
     "metadata": {},
     "output_type": "execute_result"
    }
   ],
   "source": [
    "#comparision operator\n",
    "10>14"
   ]
  },
  {
   "cell_type": "markdown",
   "id": "7d41df9e-9635-4cc3-aebc-17b98c50bce5",
   "metadata": {},
   "source": [
    "# logical operator"
   ]
  },
  {
   "cell_type": "code",
   "execution_count": 13,
   "id": "4f65b385-be8e-460f-b0e1-9ff3add33307",
   "metadata": {},
   "outputs": [
    {
     "data": {
      "text/plain": [
       "True"
      ]
     },
     "execution_count": 13,
     "metadata": {},
     "output_type": "execute_result"
    }
   ],
   "source": [
    "True and True\n"
   ]
  },
  {
   "cell_type": "code",
   "execution_count": 14,
   "id": "19421a8a-d82a-4113-9389-f6fe50235886",
   "metadata": {},
   "outputs": [
    {
     "data": {
      "text/plain": [
       "False"
      ]
     },
     "execution_count": 14,
     "metadata": {},
     "output_type": "execute_result"
    }
   ],
   "source": [
    "True and False"
   ]
  },
  {
   "cell_type": "code",
   "execution_count": 15,
   "id": "635cf137-ca53-4c0b-8179-15a2654bcd66",
   "metadata": {},
   "outputs": [
    {
     "data": {
      "text/plain": [
       "True"
      ]
     },
     "execution_count": 15,
     "metadata": {},
     "output_type": "execute_result"
    }
   ],
   "source": [
    "True or False"
   ]
  },
  {
   "cell_type": "markdown",
   "id": "a9772810-de60-4dd4-b5de-3dbf196544b0",
   "metadata": {
    "tags": []
   },
   "source": [
    "# assignment  operator"
   ]
  },
  {
   "cell_type": "code",
   "execution_count": 16,
   "id": "ddab6cfc-0ffd-4b28-b4a2-aa553866a9ff",
   "metadata": {},
   "outputs": [],
   "source": [
    "a=10"
   ]
  },
  {
   "cell_type": "code",
   "execution_count": 17,
   "id": "4f2760f4-c8a2-4d41-9dc8-ee6c9905e7b1",
   "metadata": {},
   "outputs": [
    {
     "data": {
      "text/plain": [
       "15"
      ]
     },
     "execution_count": 17,
     "metadata": {},
     "output_type": "execute_result"
    }
   ],
   "source": [
    "a+5"
   ]
  },
  {
   "cell_type": "code",
   "execution_count": 18,
   "id": "fc7db03d-44c2-4a89-af9b-fbd2662ff3a1",
   "metadata": {},
   "outputs": [],
   "source": [
    "a=a+10"
   ]
  },
  {
   "cell_type": "code",
   "execution_count": 19,
   "id": "3bf19df4-443c-463b-905d-55dc2ca36c44",
   "metadata": {},
   "outputs": [
    {
     "data": {
      "text/plain": [
       "20"
      ]
     },
     "execution_count": 19,
     "metadata": {},
     "output_type": "execute_result"
    }
   ],
   "source": [
    "a\n"
   ]
  },
  {
   "cell_type": "code",
   "execution_count": 20,
   "id": "1f9ba54a-43f6-4457-ba0d-6a91369fb262",
   "metadata": {},
   "outputs": [],
   "source": [
    "a+=5"
   ]
  },
  {
   "cell_type": "code",
   "execution_count": 21,
   "id": "f0053143-3cd5-4c2e-9629-0b4f99c0208f",
   "metadata": {},
   "outputs": [
    {
     "data": {
      "text/plain": [
       "25"
      ]
     },
     "execution_count": 21,
     "metadata": {},
     "output_type": "execute_result"
    }
   ],
   "source": [
    "a\n"
   ]
  },
  {
   "cell_type": "code",
   "execution_count": 22,
   "id": "50a211eb-1024-4b58-ad74-c587ef2ae98d",
   "metadata": {},
   "outputs": [],
   "source": [
    "a*=2"
   ]
  },
  {
   "cell_type": "code",
   "execution_count": 30,
   "id": "5e564b8b-4b98-407e-8f9e-423d3c43ad95",
   "metadata": {},
   "outputs": [
    {
     "data": {
      "text/plain": [
       "8"
      ]
     },
     "execution_count": 30,
     "metadata": {},
     "output_type": "execute_result"
    }
   ],
   "source": [
    "a"
   ]
  },
  {
   "cell_type": "code",
   "execution_count": 31,
   "id": "157bcbe5-2d68-4f8e-886f-4c518c106505",
   "metadata": {},
   "outputs": [
    {
     "data": {
      "text/plain": [
       "True"
      ]
     },
     "execution_count": 31,
     "metadata": {},
     "output_type": "execute_result"
    }
   ],
   "source": [
    "a=\"pwskills\"\n",
    "\"p\" in a"
   ]
  },
  {
   "cell_type": "code",
   "execution_count": 32,
   "id": "487faf06-6cc9-4727-ba54-012dce675cfc",
   "metadata": {},
   "outputs": [
    {
     "data": {
      "text/plain": [
       "True"
      ]
     },
     "execution_count": 32,
     "metadata": {},
     "output_type": "execute_result"
    }
   ],
   "source": [
    "\"am\" in \"i am subho\""
   ]
  },
  {
   "cell_type": "code",
   "execution_count": 33,
   "id": "65b026c5-0ea8-4677-b8f9-36921f621012",
   "metadata": {},
   "outputs": [
    {
     "data": {
      "text/plain": [
       "True"
      ]
     },
     "execution_count": 33,
     "metadata": {},
     "output_type": "execute_result"
    }
   ],
   "source": [
    "\"data\" not in \"pwskills\""
   ]
  },
  {
   "cell_type": "code",
   "execution_count": 34,
   "id": "a04d2410-493e-465f-8397-80018ad6e928",
   "metadata": {},
   "outputs": [],
   "source": [
    "a=[\"data\",\"science\",\"subho\"]"
   ]
  },
  {
   "cell_type": "code",
   "execution_count": 35,
   "id": "d5c74507-9a30-492c-b03c-3abb7d1dba72",
   "metadata": {},
   "outputs": [
    {
     "data": {
      "text/plain": [
       "True"
      ]
     },
     "execution_count": 35,
     "metadata": {},
     "output_type": "execute_result"
    }
   ],
   "source": [
    "\"data\" in a"
   ]
  },
  {
   "cell_type": "code",
   "execution_count": 36,
   "id": "32857e86-f07a-4ba0-abb8-995684624a47",
   "metadata": {},
   "outputs": [
    {
     "data": {
      "text/plain": [
       "False"
      ]
     },
     "execution_count": 36,
     "metadata": {},
     "output_type": "execute_result"
    }
   ],
   "source": [
    "\"maji\" in a"
   ]
  },
  {
   "cell_type": "code",
   "execution_count": 37,
   "id": "a221dfdc-0167-4b86-8772-63bdb1a671c8",
   "metadata": {},
   "outputs": [],
   "source": [
    "#identity operator --->> compare the memory location\n",
    "#of two object\n",
    "\n",
    "a=2"
   ]
  },
  {
   "cell_type": "code",
   "execution_count": 38,
   "id": "84a9b4df-ed28-4cd6-bc9f-669de3cee338",
   "metadata": {},
   "outputs": [],
   "source": [
    "b=2"
   ]
  },
  {
   "cell_type": "code",
   "execution_count": 39,
   "id": "f040a202-1f14-40d0-966e-9aa8e2dc7489",
   "metadata": {},
   "outputs": [],
   "source": [
    "a=b"
   ]
  },
  {
   "cell_type": "code",
   "execution_count": 40,
   "id": "8d339c90-8441-4b71-8605-1bc2f3c066f0",
   "metadata": {},
   "outputs": [
    {
     "data": {
      "text/plain": [
       "True"
      ]
     },
     "execution_count": 40,
     "metadata": {},
     "output_type": "execute_result"
    }
   ],
   "source": [
    "a is b"
   ]
  },
  {
   "cell_type": "code",
   "execution_count": 41,
   "id": "04b7355b-faed-40fe-a736-31e2bc2dd0c4",
   "metadata": {},
   "outputs": [],
   "source": [
    "b=3"
   ]
  },
  {
   "cell_type": "code",
   "execution_count": 42,
   "id": "ad2e5d86-0bac-48d6-ba96-395c9ed61dcb",
   "metadata": {},
   "outputs": [
    {
     "data": {
      "text/plain": [
       "False"
      ]
     },
     "execution_count": 42,
     "metadata": {},
     "output_type": "execute_result"
    }
   ],
   "source": [
    "a is b"
   ]
  },
  {
   "cell_type": "code",
   "execution_count": 43,
   "id": "ea3325a0-59e5-4ed9-8305-2d6572152be5",
   "metadata": {},
   "outputs": [],
   "source": [
    "a=\"pwskills\"\n",
    "b=a"
   ]
  },
  {
   "cell_type": "code",
   "execution_count": 44,
   "id": "4b9643b0-b527-4b0d-befa-3f39d1130244",
   "metadata": {},
   "outputs": [
    {
     "data": {
      "text/plain": [
       "True"
      ]
     },
     "execution_count": 44,
     "metadata": {},
     "output_type": "execute_result"
    }
   ],
   "source": [
    "a is b\n"
   ]
  },
  {
   "cell_type": "code",
   "execution_count": 46,
   "id": "1040d10d-b840-4f72-8838-1aac6abd0a2d",
   "metadata": {},
   "outputs": [
    {
     "data": {
      "text/plain": [
       "False"
      ]
     },
     "execution_count": 46,
     "metadata": {},
     "output_type": "execute_result"
    }
   ],
   "source": [
    "a=\"data\"\n",
    "b=\"science\"\n",
    "a is b\n",
    "    "
   ]
  },
  {
   "cell_type": "code",
   "execution_count": 47,
   "id": "fc607acb-0dc3-42c7-9ac0-b0ff490ffcc8",
   "metadata": {},
   "outputs": [
    {
     "data": {
      "text/plain": [
       "True"
      ]
     },
     "execution_count": 47,
     "metadata": {},
     "output_type": "execute_result"
    }
   ],
   "source": [
    "a is not b"
   ]
  },
  {
   "cell_type": "code",
   "execution_count": 49,
   "id": "94267b83-b136-42bc-82f0-81b52e23969c",
   "metadata": {},
   "outputs": [
    {
     "name": "stdout",
     "output_type": "stream",
     "text": [
      "even\n"
     ]
    }
   ],
   "source": [
    "#bitwise operator\n",
    "a=14\n",
    "if a & 1:\n",
    "    print(\"odd\")\n",
    "else:\n",
    "    print(\"even\")"
   ]
  },
  {
   "cell_type": "code",
   "execution_count": 53,
   "id": "9b47070e-3493-4fb5-8235-79e4bf3906a7",
   "metadata": {},
   "outputs": [
    {
     "data": {
      "text/plain": [
       "'0b1010'"
      ]
     },
     "execution_count": 53,
     "metadata": {},
     "output_type": "execute_result"
    }
   ],
   "source": [
    "# bin() gives binary rept of a number\n",
    "bin(10)"
   ]
  },
  {
   "cell_type": "code",
   "execution_count": 54,
   "id": "0f2e9570-c1c4-435b-82ef-c9f5de0e2783",
   "metadata": {},
   "outputs": [
    {
     "data": {
      "text/plain": [
       "7"
      ]
     },
     "execution_count": 54,
     "metadata": {},
     "output_type": "execute_result"
    }
   ],
   "source": [
    "3|5"
   ]
  },
  {
   "cell_type": "code",
   "execution_count": 55,
   "id": "15909a3c-c373-45ea-a77c-0b3d0abdb716",
   "metadata": {},
   "outputs": [
    {
     "data": {
      "text/plain": [
       "-3"
      ]
     },
     "execution_count": 55,
     "metadata": {},
     "output_type": "execute_result"
    }
   ],
   "source": [
    "~2\n"
   ]
  },
  {
   "cell_type": "code",
   "execution_count": 56,
   "id": "a0f5fcc6-3e45-4cac-8b1b-41bed0c48fd8",
   "metadata": {},
   "outputs": [
    {
     "data": {
      "text/plain": [
       "6"
      ]
     },
     "execution_count": 56,
     "metadata": {},
     "output_type": "execute_result"
    }
   ],
   "source": [
    "#bitwise xor\n",
    "5^3"
   ]
  },
  {
   "cell_type": "code",
   "execution_count": 58,
   "id": "01b82343-6af5-46e9-949e-9377b5db8e0f",
   "metadata": {},
   "outputs": [
    {
     "name": "stdout",
     "output_type": "stream",
     "text": [
      "0b101\n",
      "0b11\n"
     ]
    }
   ],
   "source": [
    "print(bin(5))\n",
    "print(bin(3))"
   ]
  },
  {
   "cell_type": "code",
   "execution_count": null,
   "id": "1ef50ee0-7a03-45a8-bb1c-aaf3528c3c7b",
   "metadata": {},
   "outputs": [],
   "source": []
  }
 ],
 "metadata": {
  "kernelspec": {
   "display_name": "Python 3 (ipykernel)",
   "language": "python",
   "name": "python3"
  },
  "language_info": {
   "codemirror_mode": {
    "name": "ipython",
    "version": 3
   },
   "file_extension": ".py",
   "mimetype": "text/x-python",
   "name": "python",
   "nbconvert_exporter": "python",
   "pygments_lexer": "ipython3",
   "version": "3.10.8"
  }
 },
 "nbformat": 4,
 "nbformat_minor": 5
}
