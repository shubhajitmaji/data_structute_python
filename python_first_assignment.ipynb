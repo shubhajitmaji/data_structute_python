{
 "cells": [
  {
   "cell_type": "code",
   "execution_count": 1,
   "id": "b5ac2c53-a5fb-4923-8358-1142e71efe9d",
   "metadata": {},
   "outputs": [
    {
     "data": {
      "text/plain": [
       "'olleh'"
      ]
     },
     "execution_count": 1,
     "metadata": {},
     "output_type": "execute_result"
    }
   ],
   "source": [
    "##question 1 wrte a code to reverse a string\n",
    "h=\"hello\"\n",
    "def reverse_string(p):\n",
    "    return p[::-1]\n",
    "reverse_string(\"hello\")"
   ]
  },
  {
   "cell_type": "code",
   "execution_count": 2,
   "id": "66d61b0a-c679-463d-919e-8f0afed6e108",
   "metadata": {},
   "outputs": [
    {
     "name": "stdout",
     "output_type": "stream",
     "text": [
      "3\n"
     ]
    }
   ],
   "source": [
    "##question 2 write a code to count the number of vowels in a string\n",
    "def vowels(s):\n",
    "    count =0\n",
    "    vowel={'a','i','e','o','u','A','E','I','O','U'}\n",
    "    for i in s:\n",
    "        if i in vowel:\n",
    "            count =count+1\n",
    "    return count\n",
    "print(vowels(\"hEllo World\"))"
   ]
  },
  {
   "cell_type": "code",
   "execution_count": 3,
   "id": "8270d95f-968b-4be4-8b1c-c5c0125f61db",
   "metadata": {},
   "outputs": [
    {
     "name": "stdout",
     "output_type": "stream",
     "text": [
      "True\n"
     ]
    }
   ],
   "source": [
    "## Question 3 write a code to check if a given string is palindrome or not\n",
    "def palindrome(s):\n",
    "    if s==s[::-1]:\n",
    "        return True\n",
    "    return False\n",
    "print(palindrome('mom'))"
   ]
  },
  {
   "cell_type": "code",
   "execution_count": 4,
   "id": "7753e2b6-64bd-40e6-bd76-d076f88bde9d",
   "metadata": {},
   "outputs": [
    {
     "data": {
      "text/plain": [
       "True"
      ]
     },
     "execution_count": 4,
     "metadata": {},
     "output_type": "execute_result"
    }
   ],
   "source": [
    "## question 4 write a code to check if two given strings are anagrams of each other\n",
    "def anagram(s1,s2):\n",
    "    result =False\n",
    "    if len(s1)!=len(s2):\n",
    "        return result\n",
    "    for i in s2:\n",
    "        if i in s1:\n",
    "            result=True\n",
    "        else:\n",
    "            return False\n",
    "    return result\n",
    "\n",
    "p1=\"rescue\"\n",
    "p2=\"securp\"\n",
    "p3=\"secure\"\n",
    "anagram(p1,p3)"
   ]
  },
  {
   "cell_type": "code",
   "execution_count": 5,
   "id": "ef9156ab-231f-42f6-a1e7-ba30f9ca52ba",
   "metadata": {},
   "outputs": [
    {
     "name": "stdout",
     "output_type": "stream",
     "text": [
      "All occurances of 'hello' in 'helloworldhellohello' are at the indices:[0, 10, 15]\n"
     ]
    }
   ],
   "source": [
    "##question 5 write a code to find all occurances of a substring within of each other\n",
    "def find_substring_occurances(input_string,substring):\n",
    "    occurances=[]\n",
    "    sub_len=len(substring)\n",
    "    input_len=len(input_string)\n",
    "    for i in range(input_len-sub_len+1):\n",
    "        if input_string[i:i+sub_len]==substring:\n",
    "            occurances.append(i)\n",
    "    return occurances\n",
    "main_string=\"helloworldhellohello\"\n",
    "substring=\"hello\"\n",
    "all_occurances=find_substring_occurances(main_string,substring)\n",
    "print(\"All occurances of '{}' in '{}' are at the indices:{}\".format(substring,main_string,all_occurances))\n"
   ]
  },
  {
   "cell_type": "code",
   "execution_count": 6,
   "id": "a089afa6-7b00-4756-9be5-a858e32a354a",
   "metadata": {},
   "outputs": [
    {
     "name": "stdout",
     "output_type": "stream",
     "text": [
      "compressed string  abcde8\n"
     ]
    }
   ],
   "source": [
    "##question 6 write a code to perform basic string compression using the counts of repeated characters\n",
    "def compress_string(ip_string):\n",
    "    compressed_string=\"\"\n",
    "    count=1\n",
    "    for i in range(len(ip_string)-1):\n",
    "        if ip_string[i] ==ip_string[i+1]:\n",
    "            count+=1\n",
    "        else:\n",
    "            compressed_string+=ip_string[i]\n",
    "            coun=1\n",
    "    compressed_string+=ip_string[-1]+str(count)\n",
    "    return compressed_string if len(compressed_string)<len(ip_string) else ip_string\n",
    "input_string=\"aabbbcccddde\"\n",
    "compressed_str=compress_string(input_string)\n",
    "print(\"compressed string \",compressed_str)"
   ]
  },
  {
   "cell_type": "code",
   "execution_count": 7,
   "id": "7d9d6668-64f5-4a67-9ad3-3b193e9d34c6",
   "metadata": {},
   "outputs": [
    {
     "data": {
      "text/plain": [
       "True"
      ]
     },
     "execution_count": 7,
     "metadata": {},
     "output_type": "execute_result"
    }
   ],
   "source": [
    "##question 7 write a code to determine if a string has all unique characters\n",
    "def unique(s):\n",
    "    list=[]\n",
    "    for i in s:\n",
    "        if i in list:\n",
    "            return False\n",
    "        list.append(i)\n",
    "    return True\n",
    "unique(\"helo\")\n"
   ]
  },
  {
   "cell_type": "code",
   "execution_count": 8,
   "id": "736f1fe3-5128-4f85-9a64-35fd62e6c172",
   "metadata": {},
   "outputs": [
    {
     "data": {
      "text/plain": [
       "'hI hELlO'"
      ]
     },
     "execution_count": 8,
     "metadata": {},
     "output_type": "execute_result"
    }
   ],
   "source": [
    "##question 8 write a code to converts a given string tto uppercase or lowercase\n",
    "def lower_upper_case(s):\n",
    "    return s.swapcase()\n",
    "\n",
    "lower_upper_case(\"Hi HelLo\")"
   ]
  },
  {
   "cell_type": "code",
   "execution_count": 9,
   "id": "8cee4ad8-8790-43f2-b624-0e8913085352",
   "metadata": {},
   "outputs": [
    {
     "data": {
      "text/plain": [
       "12"
      ]
     },
     "execution_count": 9,
     "metadata": {},
     "output_type": "execute_result"
    }
   ],
   "source": [
    "##question 9 write a code to count the numbers of words in a string\n",
    "\n",
    "def count_words(s):\n",
    "    count=0\n",
    "    for i in range(0,len(s)):\n",
    "        count=count+1\n",
    "    return count\n",
    "\n",
    "count_words(\"hello world!\")"
   ]
  },
  {
   "cell_type": "code",
   "execution_count": 10,
   "id": "55d1f32e-3973-40af-b8d8-8277b5f69aea",
   "metadata": {},
   "outputs": [
    {
     "data": {
      "text/plain": [
       "'hello world'"
      ]
     },
     "execution_count": 10,
     "metadata": {},
     "output_type": "execute_result"
    }
   ],
   "source": [
    "##question 10 write a code to concatenate two strings without using the + operator\n",
    "def concatenate(s1,s2):\n",
    "    s3=\" \".join([s1,s2])\n",
    "    return s3\n",
    "\n",
    "concatenate(\"hello\",\"world\")"
   ]
  },
  {
   "cell_type": "code",
   "execution_count": 11,
   "id": "2e100090-bebb-4111-8521-7418b9146412",
   "metadata": {},
   "outputs": [
    {
     "data": {
      "text/plain": [
       "['h', 'e', 'o', 'w', 'o', 'r', 'd']"
      ]
     },
     "execution_count": 11,
     "metadata": {},
     "output_type": "execute_result"
    }
   ],
   "source": [
    "##question 11 write a code to remove all occurances of a specific element from a list\n",
    "def remove_specific_element(l,key):\n",
    "    s1=[]\n",
    "    for i in l:\n",
    "        if i!=key:\n",
    "            s1.append(i)\n",
    "    return s1\n",
    "\n",
    "remove_specific_element(['h','e','l','l','o','w','o','r','l','d'],\"l\")\n"
   ]
  },
  {
   "cell_type": "code",
   "execution_count": 12,
   "id": "7adb56ce-e61c-4598-8847-34ee62ffef3b",
   "metadata": {},
   "outputs": [
    {
     "data": {
      "text/plain": [
       "63"
      ]
     },
     "execution_count": 12,
     "metadata": {},
     "output_type": "execute_result"
    }
   ],
   "source": [
    "##question 12 impelement a code to find the second largest number in a given list of integer\n",
    "\n",
    "def second_largest(l):\n",
    "    l2=list(set(l))\n",
    "    l2.sort()\n",
    "    return l2[-2]\n",
    "\n",
    "\n",
    "second_largest([1,2,3,12,1,4,63,3,4,66,4,55,66,63,44])"
   ]
  },
  {
   "cell_type": "code",
   "execution_count": 13,
   "id": "323fecee-5fba-4d67-8cdd-4c13007d70f5",
   "metadata": {},
   "outputs": [
    {
     "data": {
      "text/plain": [
       "{1: 3, 2: 2, 3: 1}"
      ]
     },
     "execution_count": 13,
     "metadata": {},
     "output_type": "execute_result"
    }
   ],
   "source": [
    "##question 13 Create a code to count the occurances of each element in a list and return a dict with elements as keys and their coumts as values\n",
    "def count_elements(l):\n",
    "    dic1={}\n",
    "    for i in l:\n",
    "        if i not in dic1:\n",
    "            dic1[i]=1\n",
    "        else:\n",
    "            dic1[i]+=1\n",
    "    return dic1\n",
    "\n",
    "count_elements([1,2,1,3,2,1])"
   ]
  },
  {
   "cell_type": "code",
   "execution_count": 14,
   "id": "0a70042a-e9fb-47c6-b441-ee940d590798",
   "metadata": {},
   "outputs": [
    {
     "data": {
      "text/plain": [
       "[6, 5, 4, 3, 2, 1]"
      ]
     },
     "execution_count": 14,
     "metadata": {},
     "output_type": "execute_result"
    }
   ],
   "source": [
    "##question 14 write a code to reverse a list in place without using any built in functions \n",
    "def reverse_list(l):\n",
    "    l1=l[::-1]\n",
    "    return l1\n",
    "reverse_list([1,2,3,4,5,6])\n"
   ]
  },
  {
   "cell_type": "code",
   "execution_count": 15,
   "id": "cd3aa98a-38e9-4d51-8f46-d74ff4890d02",
   "metadata": {},
   "outputs": [
    {
     "data": {
      "text/plain": [
       "[1, 2, 63, 22, 4, 66, 3]"
      ]
     },
     "execution_count": 15,
     "metadata": {},
     "output_type": "execute_result"
    }
   ],
   "source": [
    "##question 15 imimplement  a code to find  and remove duplicates from  a list while preserving the original order of element\n",
    "def remove_duplicates(l):\n",
    "    l1=[]\n",
    "    for i in l:\n",
    "        if i in l1:\n",
    "            continue\n",
    "        else:\n",
    "            l1.append(i)\n",
    "    return l1\n",
    "remove_duplicates([1,1,2,2,63,22,1,22,4,66,63,4,3,2,3,4])"
   ]
  },
  {
   "cell_type": "code",
   "execution_count": 16,
   "id": "912a0a6f-0c89-474e-a118-262c96ccd2e9",
   "metadata": {},
   "outputs": [
    {
     "data": {
      "text/plain": [
       "'Sorted in Ascending'"
      ]
     },
     "execution_count": 16,
     "metadata": {},
     "output_type": "execute_result"
    }
   ],
   "source": [
    "##question 16 create a code to check if a given list is sorted(ascending or descending) or not\n",
    "def check_sorted(l):\n",
    "    if all(l[i]<=l[i+1]for i in range (len(l)-1)):\n",
    "        return \"Sorted in Ascending\"\n",
    "    elif all(l[i]>=l[i+1]for i in range (len(l)-1)):\n",
    "        return \"sorted in Descending\"\n",
    "    else:\n",
    "        return \"Unsorted\"\n",
    "\n",
    "check_sorted([1,2,3,5,6])\n"
   ]
  },
  {
   "cell_type": "code",
   "execution_count": 17,
   "id": "792749c6-48a3-4f69-9687-156d879580c6",
   "metadata": {},
   "outputs": [
    {
     "data": {
      "text/plain": [
       "[1, 2, 3, 4, 5, 7]"
      ]
     },
     "execution_count": 17,
     "metadata": {},
     "output_type": "execute_result"
    }
   ],
   "source": [
    "##question 17 write a code to merge two sorted list into a single sorted list\n",
    "def merge_sorted_list(list1,list2):\n",
    "    result=[]\n",
    "    i=j=0\n",
    "    while i<len(list1) and j<len(list2):\n",
    "        if list1[i]<list2[j]:\n",
    "            result.append(list1[i])\n",
    "            i+=1\n",
    "        else:\n",
    "            result.append(list2[j])\n",
    "            j+=1\n",
    "    while i<len(list1):\n",
    "        result.append(list1[i])\n",
    "        i+=1\n",
    "    while j<len(list2):\n",
    "        result.append(list2[j])\n",
    "        j+=1\n",
    "    return result\n",
    "\n",
    "merge_sorted_list([1,3,4],[2,5,7])"
   ]
  },
  {
   "cell_type": "code",
   "execution_count": 18,
   "id": "4061d08d-a97b-43ea-8a1e-000a7a7c8355",
   "metadata": {},
   "outputs": [
    {
     "data": {
      "text/plain": [
       "[3, 5]"
      ]
     },
     "execution_count": 18,
     "metadata": {},
     "output_type": "execute_result"
    }
   ],
   "source": [
    "##question 18 write a code to find intersection of two list\n",
    "def find_intersection(list1,list2):\n",
    "    intersection=set(list1)& set(list2)\n",
    "    return list(intersection)\n",
    "\n",
    "find_intersection([1,2,3,4,5,6],[3,5,7,9])"
   ]
  },
  {
   "cell_type": "code",
   "execution_count": 19,
   "id": "123576d7-b129-4996-985f-741cff3c9875",
   "metadata": {},
   "outputs": [
    {
     "data": {
      "text/plain": [
       "[1, 2, 3, 4, 5, 7]"
      ]
     },
     "execution_count": 19,
     "metadata": {},
     "output_type": "execute_result"
    }
   ],
   "source": [
    "##question 19 code to find union of two list without duplicate\n",
    "def union_without_duplicate(list1,list2):\n",
    "    result=set(list1).union(set(list2))\n",
    "    return list(result)\n",
    "union_without_duplicate([1,2,3,2,4,5],[3,4,5,7])"
   ]
  },
  {
   "cell_type": "code",
   "execution_count": 20,
   "id": "bf2caadc-1446-491a-913c-b2347260ec80",
   "metadata": {},
   "outputs": [
    {
     "data": {
      "text/plain": [
       "[4, 2, 3, 1, 5]"
      ]
     },
     "execution_count": 20,
     "metadata": {},
     "output_type": "execute_result"
    }
   ],
   "source": [
    "##question 20 write a code to suffle a given list without using any built-in function\n",
    "import random\n",
    "def shuffle_list(input_list):\n",
    "    shuffled_list=input_list[:]\n",
    "    for i in range(len(shuffled_list)-1,0,-1):\n",
    "        j=random.randint(0,i)\n",
    "        shuffled_list[i],shuffled_list[j]=shuffled_list[j],shuffled_list[i]\n",
    "    return shuffled_list\n",
    "shuffle_list([1,2,3,4,5])"
   ]
  },
  {
   "cell_type": "code",
   "execution_count": 21,
   "id": "d6a8c0b5-3c78-49ab-8b24-b3368b5c82ba",
   "metadata": {},
   "outputs": [
    {
     "data": {
      "text/plain": [
       "(3, 6)"
      ]
     },
     "execution_count": 21,
     "metadata": {},
     "output_type": "execute_result"
    }
   ],
   "source": [
    "##question 21 write a code that takes two tuples as a input and return a new tuple containing the elements that are common to both\n",
    "def return_common_element(t1,t2):\n",
    "    new_tuple=[]\n",
    "    for i in t1:\n",
    "        if i in t2:\n",
    "            new_tuple.append(i)\n",
    "    \n",
    "    return tuple(new_tuple)\n",
    "\n",
    "return_common_element((1,2,3,5,6),(3,6,4,8))"
   ]
  },
  {
   "cell_type": "code",
   "execution_count": 22,
   "id": "797cc3e3-40e6-4512-a4ed-0db8d75aa22e",
   "metadata": {},
   "outputs": [
    {
     "name": "stdin",
     "output_type": "stream",
     "text": [
      "Enter First Set seperated by commas (eg- 2,3,4) 2,3,4,5\n",
      "Enter Second Set seperated by commas (eg- 2,3,4) 1,2,3,6\n"
     ]
    },
    {
     "data": {
      "text/plain": [
       "{2, 3}"
      ]
     },
     "execution_count": 22,
     "metadata": {},
     "output_type": "execute_result"
    }
   ],
   "source": [
    "##question 22 write a code that promts the user to enter \n",
    "##two sets of interger seperated by commas and then \n",
    "##print tthe common to both input tuples\n",
    "def get_intersection_set():\n",
    "    ip=input(\"Enter First Set seperated by commas (eg- 2,3,4)\")\n",
    "    int_list=ip.split(',')2,\n",
    "    set1=set(map(int,int_list))\n",
    "    ip=input(\"Enter Second Set seperated by commas (eg- 2,3,4)\")\n",
    "    int_list=ip.split(',')\n",
    "    set2=set(map(int,int_list))\n",
    "    return set1&set2\n",
    "\n",
    "get_intersection_set()"
   ]
  },
  {
   "cell_type": "code",
   "execution_count": 23,
   "id": "ecccec5d-3240-4821-ac84-045bd30107a2",
   "metadata": {},
   "outputs": [
    {
     "data": {
      "text/plain": [
       "(1, 2, 3, 4, 6, 8, 9)"
      ]
     },
     "execution_count": 23,
     "metadata": {},
     "output_type": "execute_result"
    }
   ],
   "source": [
    "##question 23 write a code to concatenate two tules\n",
    "def concatenate_tuples(t1,t2):\n",
    "    result=[]\n",
    "    for i in t1 :result.append(i)\n",
    "    for i in t2 :result.append(i)\n",
    "    return tuple(result)\n",
    "\n",
    "concatenate_tuples((1,2,3,4),(6,8,9))\n",
    "        "
   ]
  },
  {
   "cell_type": "code",
   "execution_count": 24,
   "id": "1b363ce3-7e20-4a69-ad7e-3e71a21054a6",
   "metadata": {},
   "outputs": [
    {
     "name": "stdin",
     "output_type": "stream",
     "text": [
      "Enter First Set of strings with comma seperated hello,world,hii\n",
      "Enter second Set of string with comma seperated hii,my,not\n"
     ]
    },
    {
     "data": {
      "text/plain": [
       "['hello', 'world']"
      ]
     },
     "execution_count": 24,
     "metadata": {},
     "output_type": "execute_result"
    }
   ],
   "source": [
    "##question 24 Develop a code the promts user to input two set of \n",
    "##set of strings then print the element that are present in the first\n",
    "## set but not in second\n",
    "def present_string():\n",
    "    ip=input(\"Enter First Set of strings with comma seperated\")\n",
    "    str1=ip.split(',')\n",
    "    set1=set(str1)\n",
    "    ip=input(\"Enter second Set of string with comma seperated\")\n",
    "    str2=ip.split(',')\n",
    "    set2=set(str2)\n",
    "    result=[]\n",
    "    for i in set1:\n",
    "        if i not in set2:result.append(i)\n",
    "    return result\n",
    "\n",
    "present_string()"
   ]
  },
  {
   "cell_type": "code",
   "execution_count": 25,
   "id": "9439366f-af9b-44fd-b070-90aada52f7bf",
   "metadata": {},
   "outputs": [
    {
     "data": {
      "text/plain": [
       "(3, 4, 5, 6, 7)"
      ]
     },
     "execution_count": 25,
     "metadata": {},
     "output_type": "execute_result"
    }
   ],
   "source": [
    "##question 25 \n",
    "def extract_range_from_tuple(input_tuple,start,end):\n",
    "    return input_tuple[start:end+1]\n",
    "\n",
    "extract_range_from_tuple((1,2,3,4,5,6,7,8,9,10),2,6)\n",
    "\n"
   ]
  },
  {
   "cell_type": "code",
   "execution_count": 26,
   "id": "abf51b03-4f8b-4959-9654-e30e7e372621",
   "metadata": {},
   "outputs": [
    {
     "name": "stdin",
     "output_type": "stream",
     "text": [
      "Enter First set of Character aabbccdddaa\n",
      "Enter second set of Character aba\n"
     ]
    },
    {
     "data": {
      "text/plain": [
       "{'a', 'b', 'c', 'd'}"
      ]
     },
     "execution_count": 26,
     "metadata": {},
     "output_type": "execute_result"
    }
   ],
   "source": [
    "##question 26\n",
    "def union_set():\n",
    "    s1=input(\"Enter First set of Character\")\n",
    "    s2=input(\"Enter second set of Character\")\n",
    "    result=[]\n",
    "    for i in s1:result.append(i)\n",
    "    for i in s2:result.append(i )\n",
    "    return set(result)\n",
    "\n",
    "union_set()\n"
   ]
  },
  {
   "cell_type": "code",
   "execution_count": 27,
   "id": "8432959c-baf4-4071-9bf4-3f04e6b9c051",
   "metadata": {},
   "outputs": [
    {
     "name": "stdout",
     "output_type": "stream",
     "text": [
      "Max value: 5    Min value: 1\n"
     ]
    }
   ],
   "source": [
    "##question 27\n",
    "def max_min_tuple(t):\n",
    "    max_val=max(t)\n",
    "    min_val=min(t)\n",
    "    print(\"Max value:\",max_val,end=\"    \")\n",
    "    print(\"Min value:\",min_val)\n",
    "\n",
    "max_min_tuple((1,2,3,4,5))"
   ]
  },
  {
   "cell_type": "code",
   "execution_count": 28,
   "id": "227817d7-f13f-4ff0-a46f-aa16875bcab4",
   "metadata": {},
   "outputs": [
    {
     "name": "stdout",
     "output_type": "stream",
     "text": [
      "Union: {1, 2, 3, 4, 5, 6, 7, 8, 9, 10}\n",
      "Intersection: {3, 6, 7, 8, 9, 10}\n",
      "Difference: {1, 2, 4, 5}\n"
     ]
    }
   ],
   "source": [
    "##question 28\n",
    "set1={1,2,3,4,5,6}\n",
    "set2={3,6,7,8,9,10}\n",
    "temp=set2\n",
    "for i in temp:\n",
    "    set1.add(i)\n",
    "print(\"Union:\",set1)\n",
    "intersection=set1&set2\n",
    "print(\"Intersection:\",intersection)\n",
    "difference=set1-set2\n",
    "print(\"Difference:\",difference)\n"
   ]
  },
  {
   "cell_type": "code",
   "execution_count": 29,
   "id": "73acfb99-6f02-4bdd-b124-78924ed42470",
   "metadata": {},
   "outputs": [
    {
     "data": {
      "text/plain": [
       "4"
      ]
     },
     "execution_count": 29,
     "metadata": {},
     "output_type": "execute_result"
    }
   ],
   "source": [
    "##question 29\n",
    "def count_element_tuple(t,key):\n",
    "    count=0\n",
    "    for i in t:\n",
    "        if key==i:count+=1\n",
    "    return count\n",
    "\n",
    "count_element_tuple((1,1,2,3,4,2,1,2,4,5,3,2),2)\n",
    "    "
   ]
  },
  {
   "cell_type": "code",
   "execution_count": 31,
   "id": "ed39a206-9fd9-42c4-9d32-60d033dfa898",
   "metadata": {},
   "outputs": [
    {
     "name": "stdin",
     "output_type": "stream",
     "text": [
      "Enter First Set seperated by commas (eg- 2,3,4) 1,2,3,4,5,7\n",
      "Enter Second Set seperated by commas (eg- 2,3,4) 4,3,6,7,8\n"
     ]
    },
    {
     "name": "stdout",
     "output_type": "stream",
     "text": [
      "result  {1, 2, 5, 6, 8}\n"
     ]
    }
   ],
   "source": [
    "##question 30\n",
    "def symmetric_diff():\n",
    "    ip=input(\"Enter First Set seperated by commas (eg- 2,3,4)\")\n",
    "    int_list=ip.split(',')\n",
    "    set1=set(map(int,int_list))\n",
    "    ip=input(\"Enter Second Set seperated by commas (eg- 2,3,4)\")\n",
    "    int_list=ip.split(',')\n",
    "    set2=set(map(int,int_list))\n",
    "    symmetricDiff=set1.symmetric_difference(set2)\n",
    "    print(\"result \",symmetricDiff)\n",
    "\n",
    "symmetric_diff()"
   ]
  },
  {
   "cell_type": "code",
   "execution_count": 32,
   "id": "22865f02-d993-44ba-b157-2ecffcbc811f",
   "metadata": {},
   "outputs": [
    {
     "name": "stdin",
     "output_type": "stream",
     "text": [
      "Enter the list of words seperated by commas 1,2,1,2,3,5,2,1,3,2,3,5,6,5\n"
     ]
    },
    {
     "data": {
      "text/plain": [
       "{'1': 3, '2': 4, '3': 3, '5': 3, '6': 1}"
      ]
     },
     "execution_count": 32,
     "metadata": {},
     "output_type": "execute_result"
    }
   ],
   "source": [
    "##question 31\n",
    "def words_freq_disc():\n",
    "    ip=input(\"Enter the list of words seperated by commas\")\n",
    "    in_list=ip.split(',')\n",
    "    l=list(in_list)\n",
    "    dict={}\n",
    "    for i in l:\n",
    "        if i in dict:\n",
    "            dict[i]+=1\n",
    "        else:\n",
    "            dict[i]=1\n",
    "    return dict\n",
    "words_freq_disc()"
   ]
  },
  {
   "cell_type": "code",
   "execution_count": 33,
   "id": "379e3119-3d59-4bf4-8bfa-59b8ed699527",
   "metadata": {},
   "outputs": [
    {
     "data": {
      "text/plain": [
       "{'a': 20, 'b': 12, 'c': 3, 'd': 2, 'e': 77}"
      ]
     },
     "execution_count": 33,
     "metadata": {},
     "output_type": "execute_result"
    }
   ],
   "source": [
    "##questin 32\n",
    "def merge_dictionary(dict1,dict2):\n",
    "    for key,value in dict2.items():\n",
    "        if key in dict1:\n",
    "            dict1[key]+=value\n",
    "        else:\n",
    "            dict1[key]=value\n",
    "    return dict1\n",
    "merge_dictionary({'a':10,'b':12,'c':3},{'d':2,'e':77,'a':10})"
   ]
  },
  {
   "cell_type": "code",
   "execution_count": 34,
   "id": "e2c1effa-fb21-4211-b62c-3f95515257cc",
   "metadata": {},
   "outputs": [
    {
     "name": "stdout",
     "output_type": "stream",
     "text": [
      "Values for keys ['a', 'b', 'd']:20\n"
     ]
    }
   ],
   "source": [
    "##question 33\n",
    "def nested_dict(dict1,list1):\n",
    "    new_dict=dict1\n",
    "    for key in list1:\n",
    "        if isinstance(new_dict,dict)and key in new_dict:\n",
    "            new_dict=new_dict[key]\n",
    "        else:\n",
    "            return None\n",
    "    return new_dict\n",
    "nested_dictionary={'a':{'b':{'c':10,'d':20},'e':{'f':30,'g':40}}}\n",
    "key_list=['a','b','d']\n",
    "result=nested_dict(nested_dictionary,key_list)\n",
    "print(\"Values for keys {}:{}\".format(key_list,result))"
   ]
  },
  {
   "cell_type": "code",
   "execution_count": 35,
   "id": "ec8393b9-2bb7-4ba7-a4c0-d61a38a9104a",
   "metadata": {},
   "outputs": [
    {
     "data": {
      "text/plain": [
       "{'d': 2, 'b': 5, 'a': 10, 'e': 11, 'c': 12}"
      ]
     },
     "execution_count": 35,
     "metadata": {},
     "output_type": "execute_result"
    }
   ],
   "source": [
    "##question 34\n",
    "def sort_dict_by_values(input_dict):\n",
    "    sorted_items=sorted(input_dict.items(),key=lambda x:x[1])\n",
    "    sorted_dict=dict(sorted_items)\n",
    "    return sorted_dict\n",
    "\n",
    "sort_dict_by_values({'a':10,'b':5,'d':2,'c':12,'e':11})"
   ]
  },
  {
   "cell_type": "code",
   "execution_count": 37,
   "id": "9253dd00-ec76-44e2-8619-a787091ad958",
   "metadata": {},
   "outputs": [
    {
     "data": {
      "text/plain": [
       "{10: ['a', 'e'], 5: ['b'], 2: ['d'], 12: ['c']}"
      ]
     },
     "execution_count": 37,
     "metadata": {},
     "output_type": "execute_result"
    }
   ],
   "source": [
    "##question 35\n",
    "def inverted_dict(input_dict):\n",
    "    new_dict={}\n",
    "    for keys,values in input_dict.items():\n",
    "        if values not in new_dict:\n",
    "            new_dict[values]=[keys]\n",
    "        else:\n",
    "            new_dict[values].append(keys)\n",
    "    return new_dict\n",
    "inverted_dict({'a':10,'b':5,'d':2,'c':12,'e':10})"
   ]
  },
  {
   "cell_type": "code",
   "execution_count": null,
   "id": "f60208c9-4b08-4bc1-81bd-8a08d6a2faa0",
   "metadata": {},
   "outputs": [],
   "source": []
  }
 ],
 "metadata": {
  "kernelspec": {
   "display_name": "Python 3 (ipykernel)",
   "language": "python",
   "name": "python3"
  },
  "language_info": {
   "codemirror_mode": {
    "name": "ipython",
    "version": 3
   },
   "file_extension": ".py",
   "mimetype": "text/x-python",
   "name": "python",
   "nbconvert_exporter": "python",
   "pygments_lexer": "ipython3",
   "version": "3.10.8"
  }
 },
 "nbformat": 4,
 "nbformat_minor": 5
}
